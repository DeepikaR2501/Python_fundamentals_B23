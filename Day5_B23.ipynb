{
 "cells": [
  {
   "cell_type": "code",
   "execution_count": null,
   "metadata": {},
   "outputs": [],
   "source": [
    "#Introduction to looping statements"
   ]
  },
  {
   "cell_type": "code",
   "execution_count": null,
   "metadata": {},
   "outputs": [],
   "source": [
    "#Working with for loop:"
   ]
  },
  {
   "cell_type": "code",
   "execution_count": 1,
   "metadata": {},
   "outputs": [],
   "source": [
    "bank_customers = ['naveen', 'ram', 'karthik', 'saniya', 'vandana', 'anushka']"
   ]
  },
  {
   "cell_type": "code",
   "execution_count": 2,
   "metadata": {},
   "outputs": [
    {
     "name": "stdout",
     "output_type": "stream",
     "text": [
      "Wish you happy new year, naveen\n"
     ]
    }
   ],
   "source": [
    "# To greet the customers on new year\n",
    "print(f\"Wish you happy new year, {bank_customers[0]}\")"
   ]
  },
  {
   "cell_type": "code",
   "execution_count": 3,
   "metadata": {},
   "outputs": [
    {
     "name": "stdout",
     "output_type": "stream",
     "text": [
      "Wish you happy new year, vandana\n"
     ]
    }
   ],
   "source": [
    "print(f\"Wish you happy new year, {bank_customers[4]}\")"
   ]
  },
  {
   "cell_type": "code",
   "execution_count": 4,
   "metadata": {},
   "outputs": [
    {
     "name": "stdout",
     "output_type": "stream",
     "text": [
      "Wish you happy new year, naveen\n",
      "Wish you happy new year, ram\n",
      "Wish you happy new year, karthik\n",
      "Wish you happy new year, saniya\n",
      "Wish you happy new year, vandana\n",
      "Wish you happy new year, anushka\n"
     ]
    }
   ],
   "source": [
    "for customer in bank_customers:\n",
    "    print(f\"Wish you happy new year, {customer}\")"
   ]
  },
  {
   "cell_type": "code",
   "execution_count": null,
   "metadata": {},
   "outputs": [],
   "source": [
    "#General syntax of for loop:\n",
    "for tempvariable in mainvriable:\n",
    "    print(tempvariable)\n",
    "\n",
    "#Indentation is the one tab space in for loop."
   ]
  },
  {
   "cell_type": "code",
   "execution_count": 5,
   "metadata": {},
   "outputs": [
    {
     "ename": "NameError",
     "evalue": "name 'bank_cutomers' is not defined",
     "output_type": "error",
     "traceback": [
      "\u001b[1;31m---------------------------------------------------------------------------\u001b[0m",
      "\u001b[1;31mNameError\u001b[0m                                 Traceback (most recent call last)",
      "\u001b[1;32m<ipython-input-5-6cd454294e31>\u001b[0m in \u001b[0;36m<module>\u001b[1;34m\u001b[0m\n\u001b[1;32m----> 1\u001b[1;33m \u001b[1;32mfor\u001b[0m \u001b[0mx\u001b[0m \u001b[1;32min\u001b[0m \u001b[0mbank_cutomers\u001b[0m\u001b[1;33m:\u001b[0m\u001b[1;33m\u001b[0m\u001b[1;33m\u001b[0m\u001b[0m\n\u001b[0m\u001b[0;32m      2\u001b[0m     \u001b[0mprint\u001b[0m\u001b[1;33m(\u001b[0m\u001b[1;34mf\"Welcome, {x}\"\u001b[0m\u001b[1;33m)\u001b[0m\u001b[1;33m\u001b[0m\u001b[1;33m\u001b[0m\u001b[0m\n",
      "\u001b[1;31mNameError\u001b[0m: name 'bank_cutomers' is not defined"
     ]
    }
   ],
   "source": [
    "for x in bank_cutomers:\n",
    "    print(f\"Welcome, {x}\")"
   ]
  },
  {
   "cell_type": "code",
   "execution_count": 6,
   "metadata": {},
   "outputs": [
    {
     "name": "stdout",
     "output_type": "stream",
     "text": [
      "Welcome, naveen\n",
      "Welcome, ram\n",
      "Welcome, karthik\n",
      "Welcome, saniya\n",
      "Welcome, vandana\n",
      "Welcome, anushka\n"
     ]
    }
   ],
   "source": [
    "for x in bank_customers:\n",
    "    print(f\"Welcome, {x}\")"
   ]
  },
  {
   "cell_type": "code",
   "execution_count": 7,
   "metadata": {},
   "outputs": [],
   "source": [
    "students  = ['naveen', 'ram', 'karthik', 'saniya', 'vandana', 'anushka']"
   ]
  },
  {
   "cell_type": "code",
   "execution_count": 8,
   "metadata": {},
   "outputs": [
    {
     "name": "stdout",
     "output_type": "stream",
     "text": [
      "Keep up good work, Naveen\n",
      "Keep up good work, Ram\n",
      "Keep up good work, Karthik\n",
      "Keep up good work, Saniya\n",
      "Keep up good work, Vandana\n",
      "Keep up good work, Anushka\n"
     ]
    }
   ],
   "source": [
    "for x in students:\n",
    "    print(f\"Keep up good work, {x.title()}\")"
   ]
  },
  {
   "cell_type": "code",
   "execution_count": 9,
   "metadata": {},
   "outputs": [
    {
     "name": "stdout",
     "output_type": "stream",
     "text": [
      "Keep up good work, Naveen\n",
      "I will be looking forward to recieve all your practice files, Naveen \n",
      "\n",
      "Keep up good work, Ram\n",
      "I will be looking forward to recieve all your practice files, Ram \n",
      "\n",
      "Keep up good work, Karthik\n",
      "I will be looking forward to recieve all your practice files, Karthik \n",
      "\n",
      "Keep up good work, Saniya\n",
      "I will be looking forward to recieve all your practice files, Saniya \n",
      "\n",
      "Keep up good work, Vandana\n",
      "I will be looking forward to recieve all your practice files, Vandana \n",
      "\n",
      "Keep up good work, Anushka\n",
      "I will be looking forward to recieve all your practice files, Anushka \n",
      "\n"
     ]
    }
   ],
   "source": [
    "for x in students:\n",
    "    print(f\"Keep up good work, {x.title()}\")\n",
    "    print(f\"I will be looking forward to recieve all your practice files, {x.title()} \\n\")"
   ]
  },
  {
   "cell_type": "code",
   "execution_count": 10,
   "metadata": {},
   "outputs": [
    {
     "name": "stdout",
     "output_type": "stream",
     "text": [
      "Keep up good work, Naveen\n",
      "I will be looking forward to recieve all your practice files, Naveen \n",
      "\n",
      "Keep up good work, Ram\n",
      "I will be looking forward to recieve all your practice files, Ram \n",
      "\n",
      "Keep up good work, Karthik\n",
      "I will be looking forward to recieve all your practice files, Karthik \n",
      "\n",
      "Keep up good work, Saniya\n",
      "I will be looking forward to recieve all your practice files, Saniya \n",
      "\n",
      "Keep up good work, Vandana\n",
      "I will be looking forward to recieve all your practice files, Vandana \n",
      "\n",
      "Keep up good work, Anushka\n",
      "I will be looking forward to recieve all your practice files, Anushka \n",
      "\n",
      "Thank you all for showing interest\n"
     ]
    }
   ],
   "source": [
    "for x in students:\n",
    "    print(f\"Keep up good work, {x.title()}\")\n",
    "    print(f\"I will be looking forward to recieve all your practice files, {x.title()} \\n\")\n",
    "print(\"Thank you all for showing interest\")"
   ]
  },
  {
   "cell_type": "code",
   "execution_count": null,
   "metadata": {},
   "outputs": [],
   "source": [
    "#Organizing the list"
   ]
  },
  {
   "cell_type": "code",
   "execution_count": 11,
   "metadata": {},
   "outputs": [
    {
     "name": "stdout",
     "output_type": "stream",
     "text": [
      "['naveen', 'ram', 'karthik', 'saniya', 'vandana', 'anushka']\n"
     ]
    }
   ],
   "source": [
    "print(students)"
   ]
  },
  {
   "cell_type": "code",
   "execution_count": 12,
   "metadata": {},
   "outputs": [
    {
     "name": "stdout",
     "output_type": "stream",
     "text": [
      "['anushka', 'karthik', 'naveen', 'ram', 'saniya', 'vandana']\n"
     ]
    }
   ],
   "source": [
    "print(sorted(students))"
   ]
  },
  {
   "cell_type": "code",
   "execution_count": 13,
   "metadata": {},
   "outputs": [
    {
     "name": "stdout",
     "output_type": "stream",
     "text": [
      "['naveen', 'ram', 'karthik', 'saniya', 'vandana', 'anushka']\n"
     ]
    }
   ],
   "source": [
    "print(students)"
   ]
  },
  {
   "cell_type": "code",
   "execution_count": 14,
   "metadata": {},
   "outputs": [
    {
     "name": "stdout",
     "output_type": "stream",
     "text": [
      "['anushka', 'karthik', 'naveen', 'ram', 'saniya', 'vandana']\n"
     ]
    }
   ],
   "source": [
    "students.sort()\n",
    "print(students)"
   ]
  },
  {
   "cell_type": "code",
   "execution_count": 15,
   "metadata": {},
   "outputs": [
    {
     "name": "stdout",
     "output_type": "stream",
     "text": [
      "['anushka', 'karthik', 'naveen', 'ram', 'saniya', 'vandana']\n"
     ]
    }
   ],
   "source": [
    "print(students)"
   ]
  },
  {
   "cell_type": "code",
   "execution_count": null,
   "metadata": {},
   "outputs": [],
   "source": [
    "#Difference between sorted  v/s sort\n",
    "\n",
    "#Sorted:\n",
    "#Its a temporary sort, can be reverted.\n",
    "\n",
    "#Sort\n",
    "#its a permanent sort, cannot be reverted"
   ]
  }
 ],
 "metadata": {
  "kernelspec": {
   "display_name": "Python 3",
   "language": "python",
   "name": "python3"
  },
  "language_info": {
   "codemirror_mode": {
    "name": "ipython",
    "version": 3
   },
   "file_extension": ".py",
   "mimetype": "text/x-python",
   "name": "python",
   "nbconvert_exporter": "python",
   "pygments_lexer": "ipython3",
   "version": "3.7.6"
  }
 },
 "nbformat": 4,
 "nbformat_minor": 4
}
